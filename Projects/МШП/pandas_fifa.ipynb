{
 "cells": [
  {
   "cell_type": "code",
   "execution_count": 12,
   "metadata": {},
   "outputs": [],
   "source": [
    "import pandas as pd"
   ]
  },
  {
   "cell_type": "code",
   "execution_count": 13,
   "metadata": {},
   "outputs": [],
   "source": [
    "import json\n",
    "with open('fifa_data.json') as f:\n",
    "    data = json.loads(f.read())"
   ]
  },
  {
   "cell_type": "code",
   "execution_count": 18,
   "metadata": {},
   "outputs": [
    {
     "data": {
      "text/plain": [
       "attendance                                                          62548\n",
       "away_team               {'country': 'Iran', 'code': 'IRN', 'goals': 1,...\n",
       "away_team_country                                                    Iran\n",
       "away_team_events        [{'id': 22, 'type_of_event': 'yellow-card', 'p...\n",
       "away_team_statistics    {'country': 'Iran', 'attempts_on_goal': 8, 'on...\n",
       "datetime                                             2018-06-15T15:00:00Z\n",
       "fifa_id                                                         300331526\n",
       "home_team               {'country': 'Morocco', 'code': 'MAR', 'goals':...\n",
       "home_team_country                                                 Morocco\n",
       "home_team_events        [{'id': 23, 'type_of_event': 'yellow-card', 'p...\n",
       "home_team_statistics    {'country': 'Morocco', 'attempts_on_goal': 13,...\n",
       "last_event_update_at                                 2018-06-21T02:36:30Z\n",
       "last_score_update_at                                                 None\n",
       "location                                         Saint Petersburg Stadium\n",
       "officials               [Cuneyt CAKIR, Bahattin DURAN, Tarik ONGUN, Se...\n",
       "stage_name                                                    First stage\n",
       "status                                                          completed\n",
       "time                                                            full-time\n",
       "venue                                                      St. Petersburg\n",
       "weather                 {'humidity': '37', 'temp_celsius': '25', 'temp...\n",
       "winner                                                               Iran\n",
       "winner_code                                                           IRN\n",
       "Name: 2, dtype: object"
      ]
     },
     "execution_count": 18,
     "metadata": {},
     "output_type": "execute_result"
    }
   ],
   "source": [
    "df = pd.DataFrame.from_dict(data['matches'])\n",
    "df.iloc[2]"
   ]
  },
  {
   "cell_type": "code",
   "execution_count": 4,
   "metadata": {},
   "outputs": [
    {
     "data": {
      "text/plain": [
       "3031768"
      ]
     },
     "execution_count": 4,
     "metadata": {},
     "output_type": "execute_result"
    }
   ],
   "source": [
    "df['attendance'].astype(int).sum()"
   ]
  },
  {
   "cell_type": "code",
   "execution_count": 5,
   "metadata": {},
   "outputs": [
    {
     "data": {
      "text/plain": [
       "{'humidity': '43',\n",
       " 'temp_celsius': '17',\n",
       " 'temp_farenheit': '49',\n",
       " 'wind_speed': '6',\n",
       " 'description': 'Partly Cloudy'}"
      ]
     },
     "execution_count": 5,
     "metadata": {},
     "output_type": "execute_result"
    }
   ],
   "source": [
    "df['weather'][0]"
   ]
  },
  {
   "cell_type": "code",
   "execution_count": 6,
   "metadata": {},
   "outputs": [
    {
     "data": {
      "text/html": [
       "<div>\n",
       "<style scoped>\n",
       "    .dataframe tbody tr th:only-of-type {\n",
       "        vertical-align: middle;\n",
       "    }\n",
       "\n",
       "    .dataframe tbody tr th {\n",
       "        vertical-align: top;\n",
       "    }\n",
       "\n",
       "    .dataframe thead th {\n",
       "        text-align: right;\n",
       "    }\n",
       "</style>\n",
       "<table border=\"1\" class=\"dataframe\">\n",
       "  <thead>\n",
       "    <tr style=\"text-align: right;\">\n",
       "      <th></th>\n",
       "      <th>attendance</th>\n",
       "      <th>away_team</th>\n",
       "      <th>away_team_country</th>\n",
       "      <th>away_team_events</th>\n",
       "      <th>away_team_statistics</th>\n",
       "      <th>datetime</th>\n",
       "      <th>fifa_id</th>\n",
       "      <th>home_team</th>\n",
       "      <th>home_team_country</th>\n",
       "      <th>home_team_events</th>\n",
       "      <th>...</th>\n",
       "      <th>location</th>\n",
       "      <th>officials</th>\n",
       "      <th>stage_name</th>\n",
       "      <th>status</th>\n",
       "      <th>time</th>\n",
       "      <th>venue</th>\n",
       "      <th>weather</th>\n",
       "      <th>winner</th>\n",
       "      <th>winner_code</th>\n",
       "      <th>temp_cells</th>\n",
       "    </tr>\n",
       "  </thead>\n",
       "  <tbody>\n",
       "    <tr>\n",
       "      <th>0</th>\n",
       "      <td>78011</td>\n",
       "      <td>{'country': 'Saudi Arabia', 'code': 'KSA', 'go...</td>\n",
       "      <td>Saudi Arabia</td>\n",
       "      <td>[{'id': 12, 'type_of_event': 'substitution-in'...</td>\n",
       "      <td>{'country': 'Saudi Arabia', 'attempts_on_goal'...</td>\n",
       "      <td>2018-06-14T15:00:00Z</td>\n",
       "      <td>300331503</td>\n",
       "      <td>{'country': 'Russia', 'code': 'RUS', 'goals': ...</td>\n",
       "      <td>Russia</td>\n",
       "      <td>[{'id': 5, 'type_of_event': 'goal', 'player': ...</td>\n",
       "      <td>...</td>\n",
       "      <td>Luzhniki Stadium</td>\n",
       "      <td>[Nestor PITANA, Hernan MAIDANA, Juan Pablo BEL...</td>\n",
       "      <td>First stage</td>\n",
       "      <td>completed</td>\n",
       "      <td>full-time</td>\n",
       "      <td>Moscow</td>\n",
       "      <td>{'humidity': '43', 'temp_celsius': '17', 'temp...</td>\n",
       "      <td>Russia</td>\n",
       "      <td>RUS</td>\n",
       "      <td>17.0</td>\n",
       "    </tr>\n",
       "  </tbody>\n",
       "</table>\n",
       "<p>1 rows × 23 columns</p>\n",
       "</div>"
      ],
      "text/plain": [
       "  attendance                                          away_team  \\\n",
       "0      78011  {'country': 'Saudi Arabia', 'code': 'KSA', 'go...   \n",
       "\n",
       "  away_team_country                                   away_team_events  \\\n",
       "0      Saudi Arabia  [{'id': 12, 'type_of_event': 'substitution-in'...   \n",
       "\n",
       "                                away_team_statistics              datetime  \\\n",
       "0  {'country': 'Saudi Arabia', 'attempts_on_goal'...  2018-06-14T15:00:00Z   \n",
       "\n",
       "     fifa_id                                          home_team  \\\n",
       "0  300331503  {'country': 'Russia', 'code': 'RUS', 'goals': ...   \n",
       "\n",
       "  home_team_country                                   home_team_events  \\\n",
       "0            Russia  [{'id': 5, 'type_of_event': 'goal', 'player': ...   \n",
       "\n",
       "     ...              location  \\\n",
       "0    ...      Luzhniki Stadium   \n",
       "\n",
       "                                           officials   stage_name     status  \\\n",
       "0  [Nestor PITANA, Hernan MAIDANA, Juan Pablo BEL...  First stage  completed   \n",
       "\n",
       "        time   venue                                            weather  \\\n",
       "0  full-time  Moscow  {'humidity': '43', 'temp_celsius': '17', 'temp...   \n",
       "\n",
       "   winner winner_code temp_cells  \n",
       "0  Russia         RUS       17.0  \n",
       "\n",
       "[1 rows x 23 columns]"
      ]
     },
     "execution_count": 6,
     "metadata": {},
     "output_type": "execute_result"
    }
   ],
   "source": [
    "df['temp_cells'] = df.weather.apply(lambda x:x['temp_celsius']).astype(float)\n",
    "df.head(1)"
   ]
  },
  {
   "cell_type": "code",
   "execution_count": 7,
   "metadata": {},
   "outputs": [
    {
     "data": {
      "text/plain": [
       "23.75"
      ]
     },
     "execution_count": 7,
     "metadata": {},
     "output_type": "execute_result"
    }
   ],
   "source": [
    "df['temp_cells'].mean()"
   ]
  },
  {
   "cell_type": "code",
   "execution_count": 8,
   "metadata": {},
   "outputs": [
    {
     "data": {
      "text/plain": [
       "matches    France - Argentina\n",
       "events                     27\n",
       "Name: 48, dtype: object"
      ]
     },
     "execution_count": 8,
     "metadata": {},
     "output_type": "execute_result"
    }
   ],
   "source": [
    "t = pd.DataFrame()\n",
    "df['away_team_events_num'] = df['away_team_events'].apply(lambda x:len(x))\n",
    "df['home_team_events_num'] = df['home_team_events'].apply(lambda x:len(x))\n",
    "t['matches'] = (df['home_team_country'] + ' - ' + df['away_team_country'])\n",
    "t['events'] = (df['home_team_events_num'] + df['away_team_events_num'])\n",
    "t.iloc[t['events'].idxmax()]"
   ]
  },
  {
   "cell_type": "code",
   "execution_count": 9,
   "metadata": {},
   "outputs": [
    {
     "data": {
      "text/plain": [
       "matches    England - Belgium\n",
       "events                    11\n",
       "Name: 46, dtype: object"
      ]
     },
     "execution_count": 9,
     "metadata": {},
     "output_type": "execute_result"
    }
   ],
   "source": [
    "t.iloc[t['events'].idxmin()]"
   ]
  },
  {
   "cell_type": "code",
   "execution_count": 10,
   "metadata": {},
   "outputs": [
    {
     "data": {
      "text/plain": [
       "matches       Russia - Saudi Arabia\n",
       "events                           20\n",
       "attendance                    78011\n",
       "Name: 0, dtype: object"
      ]
     },
     "execution_count": 10,
     "metadata": {},
     "output_type": "execute_result"
    }
   ],
   "source": [
    "t['attendance'] = df['attendance'].apply(lambda x: int(x))\n",
    "t.iloc[t['attendance'].idxmax()]"
   ]
  },
  {
   "cell_type": "code",
   "execution_count": 11,
   "metadata": {},
   "outputs": [
    {
     "data": {
      "text/plain": [
       "home_team\n",
       "Peru               2\n",
       "Australia          2\n",
       "Morocco            2\n",
       "Serbia             2\n",
       "Costa Rica         2\n",
       "Poland             2\n",
       "Egypt              2\n",
       "Saudi Arabia       2\n",
       "Panama             2\n",
       "Germany            2\n",
       "Iceland            2\n",
       "Iran               2\n",
       "Nigeria            3\n",
       "Mexico             3\n",
       "Korea Republic     3\n",
       "Denmark            3\n",
       "Senegal            4\n",
       "Tunisia            5\n",
       "Switzerland        5\n",
       "Sweden             6\n",
       "Portugal           6\n",
       "Argentina          6\n",
       "Colombia           6\n",
       "Japan              6\n",
       "Spain              7\n",
       "Uruguay            7\n",
       "Brazil             8\n",
       "Russia            11\n",
       "England           12\n",
       "France            14\n",
       "Croatia           14\n",
       "Belgium           16\n",
       "dtype: int64"
      ]
     },
     "execution_count": 11,
     "metadata": {},
     "output_type": "execute_result"
    }
   ],
   "source": [
    "t = pd.DataFrame()\n",
    "t['home_team'] =  df['home_team_country']\n",
    "t['home_goals'] = df['home_team'].apply(lambda x:x['goals']).astype(int)\n",
    "t['away_team'] = df['away_team_country']\n",
    "t['away_goals'] = df['away_team'].apply(lambda x:x['goals']).astype(int)\n",
    "t = t.groupby('home_team')['home_goals'].sum() + t.groupby('away_team')['away_goals'].sum()\n",
    "t.sort_values()"
   ]
  },
  {
   "cell_type": "code",
   "execution_count": 198,
   "metadata": {},
   "outputs": [
    {
     "data": {
      "text/plain": [
       "venue\n",
       "Kaliningrad        17.750000\n",
       "Ekaterinburg       19.500000\n",
       "St. Petersburg     20.428571\n",
       "Saransk            22.000000\n",
       "Moscow             22.916667\n",
       "Kazan              23.166667\n",
       "Nizhny Novgorod    23.166667\n",
       "Sochi              25.166667\n",
       "Samara             27.333333\n",
       "Rostov-On-Don      29.000000\n",
       "Volgograd          31.750000\n",
       "Name: temp_cells, dtype: float64"
      ]
     },
     "execution_count": 198,
     "metadata": {},
     "output_type": "execute_result"
    }
   ],
   "source": [
    "#зад 9-10\n",
    "df.groupby('venue')['temp_cells'].mean().sort_values()"
   ]
  },
  {
   "cell_type": "code",
   "execution_count": 64,
   "metadata": {},
   "outputs": [
    {
     "data": {
      "text/plain": [
       "4-2-3-1    33\n",
       "4-4-2      10\n",
       "3-4-3       6\n",
       "3-5-2       5\n",
       "4-3-3       4\n",
       "4-5-1       3\n",
       "5-4-1       1\n",
       "3-4-2-1     1\n",
       "4-3-2-1     1\n",
       "Name: home_team_statistics, dtype: int64"
      ]
     },
     "execution_count": 64,
     "metadata": {},
     "output_type": "execute_result"
    }
   ],
   "source": [
    "#зад 11\n",
    "df['home_team_statistics'].apply(lambda x: x['tactics']).value_counts()"
   ]
  },
  {
   "cell_type": "code",
   "execution_count": 426,
   "metadata": {},
   "outputs": [
    {
     "data": {
      "text/plain": [
       "home_team\n",
       "Poland            10.000000\n",
       "Belgium           10.166667\n",
       "Saudi Arabia      10.500000\n",
       "Serbia            11.000000\n",
       "Japan             11.000000\n",
       "Switzerland       11.333333\n",
       "France            11.600000\n",
       "England           11.800000\n",
       "Argentina         12.000000\n",
       "Sweden            12.000000\n",
       "Senegal           12.000000\n",
       "Portugal          12.000000\n",
       "Peru              12.000000\n",
       "Panama            12.000000\n",
       "Mexico            12.000000\n",
       "Korea Republic    12.000000\n",
       "Iceland           12.000000\n",
       "Germany           12.000000\n",
       "Costa Rica        12.000000\n",
       "Brazil            12.000000\n",
       "Australia         12.000000\n",
       "Tunisia           12.000000\n",
       "Uruguay           12.000000\n",
       "Egypt             12.500000\n",
       "Denmark           13.000000\n",
       "Colombia          13.000000\n",
       "Spain             13.000000\n",
       "Russia            13.666667\n",
       "Iran              14.000000\n",
       "Morocco           14.000000\n",
       "Nigeria           14.000000\n",
       "Croatia           14.333333\n",
       "dtype: float64"
      ]
     },
     "execution_count": 426,
     "metadata": {},
     "output_type": "execute_result"
    }
   ],
   "source": [
    "t = pd.DataFrame()\n",
    "t['home_team'] =  df['home_team_country']\n",
    "t['home_sub'] = df['home_team_events'].apply(lambda x: len(list(filter(lambda y:y['type_of_event'].startswith('substitution'), x))))\n",
    "t['away_team'] = df['away_team_country']\n",
    "t['away_sub'] = df['away_team_events'].apply(lambda x: len(list(filter(lambda y:y['type_of_event'].startswith('substitution'), x))))\n",
    "t = t.groupby('home_team')['home_sub'].mean() + t.groupby('away_team')['away_sub'].mean()\n",
    "t.sort_values()"
   ]
  },
  {
   "cell_type": "code",
   "execution_count": 420,
   "metadata": {},
   "outputs": [
    {
     "data": {
      "text/plain": [
       "venue\n",
       "Ekaterinburg       125437\n",
       "Kaliningrad        132249\n",
       "Saransk            160197\n",
       "Volgograd          160980\n",
       "Rostov-On-Don      214197\n",
       "Samara             248060\n",
       "Kazan              254451\n",
       "Nizhny Novgorod    256427\n",
       "Sochi              264057\n",
       "St. Petersburg     448686\n",
       "Moscow             767027\n",
       "Name: attendance_int, dtype: int64"
      ]
     },
     "execution_count": 420,
     "metadata": {},
     "output_type": "execute_result"
    }
   ],
   "source": [
    "df['attendance_int'] = df['attendance'].astype(int)\n",
    "df.groupby('venue')['attendance_int'].sum().sort_values()"
   ]
  },
  {
   "cell_type": "code",
   "execution_count": 421,
   "metadata": {},
   "outputs": [
    {
     "data": {
      "text/plain": [
       "63    France\n",
       "Name: winner, dtype: object"
      ]
     },
     "execution_count": 421,
     "metadata": {},
     "output_type": "execute_result"
    }
   ],
   "source": [
    "df.tail(1)['winner']"
   ]
  },
  {
   "cell_type": "code",
   "execution_count": null,
   "metadata": {},
   "outputs": [],
   "source": []
  }
 ],
 "metadata": {
  "kernelspec": {
   "display_name": "Python 3",
   "language": "python",
   "name": "python3"
  },
  "language_info": {
   "codemirror_mode": {
    "name": "ipython",
    "version": 3
   },
   "file_extension": ".py",
   "mimetype": "text/x-python",
   "name": "python",
   "nbconvert_exporter": "python",
   "pygments_lexer": "ipython3",
   "version": "3.6.5"
  }
 },
 "nbformat": 4,
 "nbformat_minor": 2
}
